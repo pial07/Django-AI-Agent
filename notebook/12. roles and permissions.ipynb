{
 "cells": [
  {
   "cell_type": "code",
   "execution_count": 1,
   "id": "7871c340",
   "metadata": {},
   "outputs": [],
   "source": [
    "import setup\n",
    "setup.init()"
   ]
  },
  {
   "cell_type": "code",
   "execution_count": 2,
   "id": "eddbfe5f",
   "metadata": {},
   "outputs": [],
   "source": [
    "from mypermit import permit_client\n",
    "permit=permit_client"
   ]
  },
  {
   "cell_type": "code",
   "execution_count": 3,
   "id": "114aed5b",
   "metadata": {},
   "outputs": [],
   "source": [
    "from django.contrib.auth import get_user_model\n",
    "User = get_user_model()"
   ]
  },
  {
   "cell_type": "code",
   "execution_count": 4,
   "id": "01c4abf1",
   "metadata": {},
   "outputs": [
    {
     "name": "stdout",
     "output_type": "stream",
     "text": [
      "key='1' id=UUID('1d57f26b-e304-4acf-9ce4-33d2d8bf7c28') organization_id=UUID('b6bfc051-b587-4573-b18a-874acb455d50') project_id=UUID('e9324f4d-a7da-4c8f-ad00-10982eb0514f') environment_id=UUID('3d77f907-dd64-4833-a698-8ba601079ccb') associated_tenants=[] roles=[] created_at=datetime.datetime(2025, 6, 19, 9, 11, 22, tzinfo=datetime.timezone.utc) updated_at=datetime.datetime(2025, 6, 19, 9, 24, 25, tzinfo=datetime.timezone.utc) email=None first_name='haider' last_name=None attributes=None\n",
      "key='2' id=UUID('af734992-07c8-42ac-982d-ce4ae612c965') organization_id=UUID('b6bfc051-b587-4573-b18a-874acb455d50') project_id=UUID('e9324f4d-a7da-4c8f-ad00-10982eb0514f') environment_id=UUID('3d77f907-dd64-4833-a698-8ba601079ccb') associated_tenants=[] roles=[] created_at=datetime.datetime(2025, 6, 19, 9, 11, 23, tzinfo=datetime.timezone.utc) updated_at=datetime.datetime(2025, 6, 19, 9, 24, 25, tzinfo=datetime.timezone.utc) email=None first_name='staff' last_name=None attributes=None\n",
      "key='3' id=UUID('9deed71f-b9bd-449f-895e-73c3146874c4') organization_id=UUID('b6bfc051-b587-4573-b18a-874acb455d50') project_id=UUID('e9324f4d-a7da-4c8f-ad00-10982eb0514f') environment_id=UUID('3d77f907-dd64-4833-a698-8ba601079ccb') associated_tenants=[] roles=[] created_at=datetime.datetime(2025, 6, 19, 9, 11, 24, tzinfo=datetime.timezone.utc) updated_at=datetime.datetime(2025, 6, 19, 9, 24, 26, tzinfo=datetime.timezone.utc) email=None first_name='Ali Haider' last_name=None attributes=None\n",
      "key='4' id=UUID('06bffcfe-1e16-439a-aaa6-1f3a5c3ddda5') organization_id=UUID('b6bfc051-b587-4573-b18a-874acb455d50') project_id=UUID('e9324f4d-a7da-4c8f-ad00-10982eb0514f') environment_id=UUID('3d77f907-dd64-4833-a698-8ba601079ccb') associated_tenants=[] roles=[] created_at=datetime.datetime(2025, 6, 19, 9, 11, 25, tzinfo=datetime.timezone.utc) updated_at=datetime.datetime(2025, 6, 19, 9, 24, 27, tzinfo=datetime.timezone.utc) email=None first_name='Ali' last_name=None attributes=None\n"
     ]
    }
   ],
   "source": [
    "for u in User.objects.all():\n",
    "    user_data={\n",
    "        \"key\":f\"{u.id}\",\n",
    "        \"first_name\":f\"{u.username}\",\n",
    "    }\n",
    "    response=await permit.api.users.sync(user_data)\n",
    "    print(response)"
   ]
  },
  {
   "cell_type": "code",
   "execution_count": 5,
   "id": "114a6b1e",
   "metadata": {},
   "outputs": [
    {
     "data": {
      "text/plain": [
       "PaginatedResultUserRead(data=[UserRead(key='4', id=UUID('06bffcfe-1e16-439a-aaa6-1f3a5c3ddda5'), organization_id=UUID('b6bfc051-b587-4573-b18a-874acb455d50'), project_id=UUID('e9324f4d-a7da-4c8f-ad00-10982eb0514f'), environment_id=UUID('3d77f907-dd64-4833-a698-8ba601079ccb'), associated_tenants=[], roles=[], created_at=datetime.datetime(2025, 6, 19, 9, 11, 25, tzinfo=datetime.timezone.utc), updated_at=datetime.datetime(2025, 6, 19, 9, 24, 27, tzinfo=datetime.timezone.utc), email=None, first_name='Ali', last_name=None, attributes=None), UserRead(key='1', id=UUID('1d57f26b-e304-4acf-9ce4-33d2d8bf7c28'), organization_id=UUID('b6bfc051-b587-4573-b18a-874acb455d50'), project_id=UUID('e9324f4d-a7da-4c8f-ad00-10982eb0514f'), environment_id=UUID('3d77f907-dd64-4833-a698-8ba601079ccb'), associated_tenants=[], roles=[], created_at=datetime.datetime(2025, 6, 19, 9, 11, 22, tzinfo=datetime.timezone.utc), updated_at=datetime.datetime(2025, 6, 19, 9, 24, 25, tzinfo=datetime.timezone.utc), email=None, first_name='haider', last_name=None, attributes=None), UserRead(key='3', id=UUID('9deed71f-b9bd-449f-895e-73c3146874c4'), organization_id=UUID('b6bfc051-b587-4573-b18a-874acb455d50'), project_id=UUID('e9324f4d-a7da-4c8f-ad00-10982eb0514f'), environment_id=UUID('3d77f907-dd64-4833-a698-8ba601079ccb'), associated_tenants=[], roles=[], created_at=datetime.datetime(2025, 6, 19, 9, 11, 24, tzinfo=datetime.timezone.utc), updated_at=datetime.datetime(2025, 6, 19, 9, 24, 26, tzinfo=datetime.timezone.utc), email=None, first_name='Ali Haider', last_name=None, attributes=None), UserRead(key='2', id=UUID('af734992-07c8-42ac-982d-ce4ae612c965'), organization_id=UUID('b6bfc051-b587-4573-b18a-874acb455d50'), project_id=UUID('e9324f4d-a7da-4c8f-ad00-10982eb0514f'), environment_id=UUID('3d77f907-dd64-4833-a698-8ba601079ccb'), associated_tenants=[], roles=[], created_at=datetime.datetime(2025, 6, 19, 9, 11, 23, tzinfo=datetime.timezone.utc), updated_at=datetime.datetime(2025, 6, 19, 9, 24, 25, tzinfo=datetime.timezone.utc), email=None, first_name='staff', last_name=None, attributes=None)], total_count=4, page_count=4)"
      ]
     },
     "execution_count": 5,
     "metadata": {},
     "output_type": "execute_result"
    }
   ],
   "source": [
    "await permit.api.users.list()"
   ]
  },
  {
   "cell_type": "code",
   "execution_count": 6,
   "id": "3c87bc6b",
   "metadata": {},
   "outputs": [],
   "source": [
    "resources = [\n",
    "    {\n",
    "        \"name\": \"Document\",\n",
    "        \"key\": \"document\",\n",
    "        \"actions\": {\n",
    "            \"read\": {},\n",
    "            \"create\": {},\n",
    "            \"update\": {},\n",
    "            \"delete\": {},\n",
    "        }\n",
    "    },\n",
    "    {\n",
    "        \"name\": \"Movie Discovery Resource\",\n",
    "        \"key\": \"movie_disovery\",\n",
    "        \"actions\": {\n",
    "            \"search\": {},\n",
    "            \"detail\": {},\n",
    "        }\n",
    "    }\n",
    "]"
   ]
  },
  {
   "cell_type": "code",
   "execution_count": 7,
   "id": "ec19a141",
   "metadata": {},
   "outputs": [],
   "source": [
    "from permit import PermitError\n",
    "\n",
    "async def get_or_create_resources(resources_data:dict):\n",
    "    resource_key = resources_data.get(\"key\")\n",
    "    try:\n",
    "        _resource=await permit.api.resources.get(resource_key) # type: ignore\n",
    "    except PermitError as e:\n",
    "        if e.status_code == 404: # type: ignore\n",
    "         _resource=await permit.api.resources.create(resources_data)   # type: ignore\n",
    "        else:\n",
    "           raise e\n",
    "    return _resource"
   ]
  },
  {
   "cell_type": "code",
   "execution_count": 8,
   "id": "134a0b64",
   "metadata": {},
   "outputs": [
    {
     "name": "stdout",
     "output_type": "stream",
     "text": [
      "key='document' id=UUID('d0bfa72f-f266-4283-a543-b346c2c05244') organization_id=UUID('b6bfc051-b587-4573-b18a-874acb455d50') project_id=UUID('e9324f4d-a7da-4c8f-ad00-10982eb0514f') environment_id=UUID('3d77f907-dd64-4833-a698-8ba601079ccb') created_at=datetime.datetime(2025, 6, 19, 9, 41, 39, tzinfo=datetime.timezone.utc) updated_at=datetime.datetime(2025, 6, 19, 9, 41, 39, tzinfo=datetime.timezone.utc) name='Document' urn='prn:pial:default:document' description=None actions={'delete': ActionBlockRead(name='delete', description=None, attributes=None, v1compat_path=None, v1compat_name=None, id=UUID('2f4d1bdd-19ec-434b-8c98-e9ac8b1667d5'), key='delete'), 'update': ActionBlockRead(name='update', description=None, attributes=None, v1compat_path=None, v1compat_name=None, id=UUID('2d642fa7-aea4-40cd-9035-40d794719b29'), key='update'), 'create': ActionBlockRead(name='create', description=None, attributes=None, v1compat_path=None, v1compat_name=None, id=UUID('dd1f86e5-cf3d-4b17-889f-f14a843f27f7'), key='create'), 'read': ActionBlockRead(name='read', description=None, attributes=None, v1compat_path=None, v1compat_name=None, id=UUID('416d5e22-5f92-4d28-91bd-8aeab78e72e6'), key='read')} type_attributes=None attributes={} roles={} relations={} v1compat_path=None v1compat_type=None v1compat_name=None action_groups={}\n",
      "key='movie_disovery' id=UUID('07a448d6-07b6-44ab-a38b-f3ca01cc3a42') organization_id=UUID('b6bfc051-b587-4573-b18a-874acb455d50') project_id=UUID('e9324f4d-a7da-4c8f-ad00-10982eb0514f') environment_id=UUID('3d77f907-dd64-4833-a698-8ba601079ccb') created_at=datetime.datetime(2025, 6, 19, 9, 57, 4, tzinfo=datetime.timezone.utc) updated_at=datetime.datetime(2025, 6, 19, 9, 57, 4, tzinfo=datetime.timezone.utc) name='Movie Discovery Resource' urn='prn:pial:default:movie_disovery' description=None actions={'detail': ActionBlockRead(name='detail', description=None, attributes=None, v1compat_path=None, v1compat_name=None, id=UUID('d066c9d5-7749-4f36-81e1-18b8f244bd25'), key='detail'), 'search': ActionBlockRead(name='search', description=None, attributes=None, v1compat_path=None, v1compat_name=None, id=UUID('6c5e81d1-f6bf-43ae-9d41-bb952739b62f'), key='search')} type_attributes=None attributes={} roles={} relations={} v1compat_path=None v1compat_type=None v1compat_name=None action_groups={}\n"
     ]
    }
   ],
   "source": [
    "for resource_data in resources:\n",
    "    response=await get_or_create_resources(resource_data)\n",
    "    print (response)"
   ]
  },
  {
   "cell_type": "code",
   "execution_count": 13,
   "id": "926162f6",
   "metadata": {},
   "outputs": [
    {
     "data": {
      "text/plain": [
       "ResourceRead(key='document', id=UUID('d0bfa72f-f266-4283-a543-b346c2c05244'), organization_id=UUID('b6bfc051-b587-4573-b18a-874acb455d50'), project_id=UUID('e9324f4d-a7da-4c8f-ad00-10982eb0514f'), environment_id=UUID('3d77f907-dd64-4833-a698-8ba601079ccb'), created_at=datetime.datetime(2025, 6, 19, 9, 41, 39, tzinfo=datetime.timezone.utc), updated_at=datetime.datetime(2025, 6, 19, 9, 41, 39, tzinfo=datetime.timezone.utc), name='Document', urn='prn:pial:default:document', description=None, actions={'delete': ActionBlockRead(name='delete', description=None, attributes=None, v1compat_path=None, v1compat_name=None, id=UUID('2f4d1bdd-19ec-434b-8c98-e9ac8b1667d5'), key='delete'), 'update': ActionBlockRead(name='update', description=None, attributes=None, v1compat_path=None, v1compat_name=None, id=UUID('2d642fa7-aea4-40cd-9035-40d794719b29'), key='update'), 'create': ActionBlockRead(name='create', description=None, attributes=None, v1compat_path=None, v1compat_name=None, id=UUID('dd1f86e5-cf3d-4b17-889f-f14a843f27f7'), key='create'), 'read': ActionBlockRead(name='read', description=None, attributes=None, v1compat_path=None, v1compat_name=None, id=UUID('416d5e22-5f92-4d28-91bd-8aeab78e72e6'), key='read')}, type_attributes=None, attributes={}, roles={}, relations={}, v1compat_path=None, v1compat_type=None, v1compat_name=None, action_groups={})"
      ]
     },
     "execution_count": 13,
     "metadata": {},
     "output_type": "execute_result"
    }
   ],
   "source": [
    "await get_or_create_resources({\"key\":\"document\"})"
   ]
  },
  {
   "cell_type": "code",
   "execution_count": null,
   "id": "b0498c42",
   "metadata": {},
   "outputs": [],
   "source": [
    "# readonly_permissions=[\n",
    "#   \"document:read\",\n",
    "#   \"movie_disovery:search\",\n",
    "#   \"movie_disovery:detail\",\n",
    "# ]"
   ]
  },
  {
   "cell_type": "code",
   "execution_count": 12,
   "id": "20d0e4ff",
   "metadata": {},
   "outputs": [],
   "source": [
    "roles = [\n",
    "    {\n",
    "        \"name\": \"Manager\",\n",
    "        \"key\": \"manager\",\n",
    "        \"permissions\": [\n",
    "            \"document:read\",\n",
    "            \"document:create\",\n",
    "            \"document:update\",\n",
    "            \"document:delete\",\n",
    "            \"movie_disovery:search\",\n",
    "            \"movie_disovery:detail\"\n",
    "        ]\n",
    "    }, \n",
    "    {\n",
    "        \"name\": \"Viewer\",\n",
    "        \"key\": \"viewer\",\n",
    "        \"permissions\": [\n",
    "            \"document:read\",\n",
    "            \"movie_disovery:search\",\n",
    "            \"movie_disovery:detail\"\n",
    "        ]\n",
    "    }\n",
    "]"
   ]
  },
  {
   "cell_type": "code",
   "execution_count": 15,
   "id": "431b21b2",
   "metadata": {},
   "outputs": [],
   "source": [
    "from permit import PermitError\n",
    "\n",
    "async def get_or_create_roles(role_data:dict):\n",
    "    _key = role_data.get(\"key\")\n",
    "    try:\n",
    "        _resource=await permit.api.roles.get(_key) # type: ignore\n",
    "    except PermitError as e:\n",
    "        if e.status_code == 404: # type: ignore\n",
    "         _resource=await permit.api.roles.create(role_data)   # type: ignore\n",
    "        else:\n",
    "           raise e\n",
    "    return _resource"
   ]
  },
  {
   "cell_type": "code",
   "execution_count": null,
   "id": "09ffa718",
   "metadata": {},
   "outputs": [],
   "source": [
    "# await permit.api.roles.delete('viewer')"
   ]
  },
  {
   "cell_type": "code",
   "execution_count": 19,
   "id": "68e421ac",
   "metadata": {},
   "outputs": [
    {
     "name": "stdout",
     "output_type": "stream",
     "text": [
      "name='Manager' description=None permissions=['document:delete', 'movie_disovery:detail', 'movie_disovery:search', 'document:read', 'document:update', 'document:create'] attributes={} extends=[] granted_to=None v1compat_settings=None v1compat_attributes=None key='manager' id=UUID('1271c64b-56bb-4922-b64b-8705fd7a6224') organization_id=UUID('b6bfc051-b587-4573-b18a-874acb455d50') project_id=UUID('e9324f4d-a7da-4c8f-ad00-10982eb0514f') environment_id=UUID('3d77f907-dd64-4833-a698-8ba601079ccb') created_at=datetime.datetime(2025, 6, 19, 10, 3, 46, tzinfo=datetime.timezone.utc) updated_at=datetime.datetime(2025, 6, 19, 10, 3, 46, tzinfo=datetime.timezone.utc)\n",
      "name='Viewer' description=None permissions=['movie_disovery:search', 'document:read', 'movie_disovery:detail'] attributes={} extends=[] granted_to=None v1compat_settings=None v1compat_attributes=None key='viewer' id=UUID('d98b3088-8133-4e16-9333-65efa39c755a') organization_id=UUID('b6bfc051-b587-4573-b18a-874acb455d50') project_id=UUID('e9324f4d-a7da-4c8f-ad00-10982eb0514f') environment_id=UUID('3d77f907-dd64-4833-a698-8ba601079ccb') created_at=datetime.datetime(2025, 6, 19, 10, 10, 7, tzinfo=datetime.timezone.utc) updated_at=datetime.datetime(2025, 6, 19, 10, 10, 7, tzinfo=datetime.timezone.utc)\n"
     ]
    }
   ],
   "source": [
    "for role_data in roles:\n",
    "    response = await get_or_create_roles(role_data)\n",
    "    print (response)"
   ]
  },
  {
   "cell_type": "code",
   "execution_count": 20,
   "id": "97e9a23e",
   "metadata": {},
   "outputs": [],
   "source": [
    "user=User.objects.all().first()"
   ]
  },
  {
   "cell_type": "code",
   "execution_count": 36,
   "id": "865f0d5f",
   "metadata": {},
   "outputs": [
    {
     "data": {
      "text/plain": [
       "RoleAssignmentRead(id=UUID('4db6a85a-9657-4b82-b546-fe8110ea240a'), user='1', role='admin', tenant='default', resource_instance=None, resource_instance_id=None, user_id=UUID('1d57f26b-e304-4acf-9ce4-33d2d8bf7c28'), role_id=UUID('e0955183-f580-418e-890f-2b84fdba0975'), tenant_id=UUID('8f66027e-4036-402a-8014-22b19b730966'), organization_id=UUID('b6bfc051-b587-4573-b18a-874acb455d50'), project_id=UUID('e9324f4d-a7da-4c8f-ad00-10982eb0514f'), environment_id=UUID('3d77f907-dd64-4833-a698-8ba601079ccb'), created_at=datetime.datetime(2025, 6, 19, 10, 27, 32, tzinfo=datetime.timezone.utc))"
      ]
     },
     "execution_count": 36,
     "metadata": {},
     "output_type": "execute_result"
    }
   ],
   "source": [
    "response=await permit.api.users.assign_role({\n",
    "    \"user\":f\"{user.id}\", # type: ignore\n",
    "    \"role\":\"admin\",\n",
    "    \"tenant\":\"default\"\n",
    "    }\n",
    "        )\n",
    "response"
   ]
  },
  {
   "cell_type": "code",
   "execution_count": 38,
   "id": "2b323d4d",
   "metadata": {},
   "outputs": [
    {
     "data": {
      "text/plain": [
       "True"
      ]
     },
     "execution_count": 38,
     "metadata": {},
     "output_type": "execute_result"
    }
   ],
   "source": [
    "await permit.check(f\"{user.id}\", \"delete\",'document')\n"
   ]
  },
  {
   "cell_type": "code",
   "execution_count": 39,
   "id": "2275286d",
   "metadata": {},
   "outputs": [],
   "source": [
    "from ai.supervisor import get_supervisor\n"
   ]
  },
  {
   "cell_type": "code",
   "execution_count": 40,
   "id": "5b8cc394",
   "metadata": {},
   "outputs": [],
   "source": [
    "from langgraph.checkpoint.memory import InMemorySaver\n",
    "\n",
    "checkpointer = InMemorySaver()"
   ]
  },
  {
   "cell_type": "code",
   "execution_count": 41,
   "id": "84153c4e",
   "metadata": {},
   "outputs": [],
   "source": [
    "supervisor=get_supervisor(model=\"gpt-4o\",checkpointer=checkpointer)"
   ]
  },
  {
   "cell_type": "code",
   "execution_count": 42,
   "id": "bcd96d8f",
   "metadata": {},
   "outputs": [],
   "source": [
    "doc_id=6\n",
    "user_id=1"
   ]
  },
  {
   "cell_type": "code",
   "execution_count": 43,
   "id": "9c1c9b58",
   "metadata": {},
   "outputs": [],
   "source": [
    "import uuid\n",
    "config = {\"configurable\": {\"user_id\": \"1\", \"thread_id\": uuid.uuid4()}}\n",
    "\n",
    "response=supervisor.invoke({\"messages\":\n",
    "              [\n",
    "                  {\"role\":\"user\",\n",
    "                   \"content\":\"what are my most recent documents?\"\n",
    "                   }\n",
    "            ]\n",
    "                },\n",
    "            config\n",
    "              )"
   ]
  },
  {
   "cell_type": "code",
   "execution_count": 44,
   "id": "3b3e91fb",
   "metadata": {},
   "outputs": [
    {
     "data": {
      "text/plain": [
       "'Your most recent documents are:\\n\\n1. **Interstellar**\\n2. **Oppenheimer**\\n3. **Inception**\\n4. **Original Sin**\\n5. **Haider Movie Summary**\\n\\nIf you need further assistance with these documents, feel free to ask!'"
      ]
     },
     "execution_count": 44,
     "metadata": {},
     "output_type": "execute_result"
    }
   ],
   "source": [
    "response['messages'][-1].content"
   ]
  },
  {
   "cell_type": "code",
   "execution_count": 45,
   "id": "265fa285",
   "metadata": {},
   "outputs": [
    {
     "data": {
      "text/plain": [
       "'A random document with the document ID 3 has been successfully deleted. If you need any more help, feel free to ask!'"
      ]
     },
     "execution_count": 45,
     "metadata": {},
     "output_type": "execute_result"
    }
   ],
   "source": [
    "\n",
    "response=supervisor.invoke({\"messages\":\n",
    "              [\n",
    "                  {\"role\":\"user\",\n",
    "                   \"content\":f\"delete a random document with document id \"\n",
    "                   }\n",
    "            ]\n",
    "                },\n",
    "            config\n",
    "              )\n",
    "\n",
    "response['messages'][-1].content"
   ]
  },
  {
   "cell_type": "code",
   "execution_count": null,
   "id": "7947b8c0",
   "metadata": {},
   "outputs": [],
   "source": []
  }
 ],
 "metadata": {
  "kernelspec": {
   "display_name": "venv",
   "language": "python",
   "name": "python3"
  },
  "language_info": {
   "codemirror_mode": {
    "name": "ipython",
    "version": 3
   },
   "file_extension": ".py",
   "mimetype": "text/x-python",
   "name": "python",
   "nbconvert_exporter": "python",
   "pygments_lexer": "ipython3",
   "version": "3.12.6"
  }
 },
 "nbformat": 4,
 "nbformat_minor": 5
}
