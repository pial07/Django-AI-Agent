{
 "cells": [
  {
   "cell_type": "code",
   "execution_count": 16,
   "id": "7871c340",
   "metadata": {},
   "outputs": [],
   "source": [
    "import setup\n",
    "setup.init()"
   ]
  },
  {
   "cell_type": "code",
   "execution_count": 17,
   "id": "4868b107",
   "metadata": {},
   "outputs": [],
   "source": [
    "from django.contrib.auth import get_user_model\n",
    "User= get_user_model()"
   ]
  },
  {
   "cell_type": "code",
   "execution_count": null,
   "id": "32c17750",
   "metadata": {},
   "outputs": [
    {
     "data": {
      "text/plain": [
       "<QuerySet [<User: haider>, <User: staff>, <User: Ali Haider>, <User: Ali>]>"
      ]
     },
     "execution_count": 18,
     "metadata": {},
     "output_type": "execute_result"
    }
   ],
   "source": [
    "User.objects.all()"
   ]
  },
  {
   "cell_type": "code",
   "execution_count": null,
   "id": "bdf922a3",
   "metadata": {},
   "outputs": [],
   "source": [
    "user_obj=User.objects.create(username=\"Ali\")"
   ]
  },
  {
   "cell_type": "code",
   "execution_count": 21,
   "id": "233c0ef8",
   "metadata": {},
   "outputs": [],
   "source": [
    "\n",
    "\n",
    "user_obj.is_staff=True\n",
    "user_obj.set_password(\"123\")\n",
    "user_obj.is_staff\n",
    "user_obj.save()"
   ]
  },
  {
   "cell_type": "code",
   "execution_count": 22,
   "id": "0e45667a",
   "metadata": {},
   "outputs": [
    {
     "data": {
      "text/plain": [
       "'pbkdf2_sha256$1000000$uSOWT5Jp59SUD1njGsbTRP$XCeZJ6ilvz0zKW8j8Abx+YjGyrMD1YA0xKDy8iVyOTg='"
      ]
     },
     "execution_count": 22,
     "metadata": {},
     "output_type": "execute_result"
    }
   ],
   "source": [
    "user_obj.password"
   ]
  },
  {
   "cell_type": "code",
   "execution_count": 5,
   "id": "c0b6fa61",
   "metadata": {},
   "outputs": [
    {
     "data": {
      "text/plain": [
       "<Document: Hello Pial>"
      ]
     },
     "execution_count": 5,
     "metadata": {},
     "output_type": "execute_result"
    }
   ],
   "source": [
    "from documents.models import Document\n",
    "doc_obj=Document(owner=user_obj, title=\"Hello Pial\")\n",
    "doc_obj"
   ]
  },
  {
   "cell_type": "code",
   "execution_count": 6,
   "id": "447b2417",
   "metadata": {},
   "outputs": [],
   "source": [
    "doc_obj.save()"
   ]
  },
  {
   "cell_type": "code",
   "execution_count": 7,
   "id": "cef515c3",
   "metadata": {},
   "outputs": [
    {
     "data": {
      "text/plain": [
       "<Document: Hello Pial>"
      ]
     },
     "execution_count": 7,
     "metadata": {},
     "output_type": "execute_result"
    }
   ],
   "source": [
    "doc_obj"
   ]
  },
  {
   "cell_type": "code",
   "execution_count": 8,
   "id": "5a494040",
   "metadata": {},
   "outputs": [
    {
     "data": {
      "text/plain": [
       "<Document: Title>"
      ]
     },
     "execution_count": 8,
     "metadata": {},
     "output_type": "execute_result"
    }
   ],
   "source": [
    "user_obj= User.objects.last()\n",
    "doc_obj= Document.objects.create(owner=user_obj)\n",
    "doc_obj.save()\n",
    "doc_obj"
   ]
  },
  {
   "cell_type": "code",
   "execution_count": null,
   "id": "5cd49933",
   "metadata": {},
   "outputs": [
    {
     "data": {
      "text/plain": [
       "2"
      ]
     },
     "execution_count": 9,
     "metadata": {},
     "output_type": "execute_result"
    }
   ],
   "source": [
    "user_obj.id # type: ignore"
   ]
  },
  {
   "cell_type": "code",
   "execution_count": null,
   "id": "6a92a5be",
   "metadata": {},
   "outputs": [],
   "source": []
  }
 ],
 "metadata": {
  "kernelspec": {
   "display_name": "venv",
   "language": "python",
   "name": "python3"
  },
  "language_info": {
   "codemirror_mode": {
    "name": "ipython",
    "version": 3
   },
   "file_extension": ".py",
   "mimetype": "text/x-python",
   "name": "python",
   "nbconvert_exporter": "python",
   "pygments_lexer": "ipython3",
   "version": "3.12.6"
  }
 },
 "nbformat": 4,
 "nbformat_minor": 5
}
