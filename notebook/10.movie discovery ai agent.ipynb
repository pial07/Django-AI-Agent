{
 "cells": [
  {
   "cell_type": "code",
   "execution_count": 1,
   "id": "7871c340",
   "metadata": {},
   "outputs": [],
   "source": [
    "import setup\n",
    "setup.init()"
   ]
  },
  {
   "cell_type": "code",
   "execution_count": 2,
   "id": "2275286d",
   "metadata": {},
   "outputs": [],
   "source": [
    "from ai.agents import get_movie_discovery_agent\n"
   ]
  },
  {
   "cell_type": "code",
   "execution_count": 3,
   "id": "5b8cc394",
   "metadata": {},
   "outputs": [],
   "source": [
    "from langgraph.checkpoint.memory import InMemorySaver\n",
    "\n",
    "checkpointer = InMemorySaver()"
   ]
  },
  {
   "cell_type": "code",
   "execution_count": 4,
   "id": "84153c4e",
   "metadata": {},
   "outputs": [],
   "source": [
    "agent=get_movie_discovery_agent(model=\"gpt-4o\",checkpointer=checkpointer)"
   ]
  },
  {
   "cell_type": "code",
   "execution_count": 5,
   "id": "9c1c9b58",
   "metadata": {},
   "outputs": [
    {
     "name": "stdout",
     "output_type": "stream",
     "text": [
      "searching with user: 2\n",
      "searching with user: 2\n"
     ]
    }
   ],
   "source": [
    "import uuid\n",
    "config = {\"configurable\": {\"user_id\": \"2\", \"thread_id\": uuid.uuid4()}}\n",
    "\n",
    "response=agent.invoke({\"messages\":\n",
    "              [\n",
    "                  {\"role\":\"user\",\n",
    "                   \"content\":\"tell me about movie inception?\"\n",
    "                   }\n",
    "            ]\n",
    "                },\n",
    "            config # type: ignore\n",
    "              )"
   ]
  },
  {
   "cell_type": "code",
   "execution_count": 6,
   "id": "c2c872eb",
   "metadata": {},
   "outputs": [
    {
     "data": {
      "text/plain": [
       "ToolMessage(content='{\"adult\": false, \"backdrop_path\": \"/8ZTVqvKDQ8emSGUEMjsS4yHAwrp.jpg\", \"belongs_to_collection\": null, \"budget\": 160000000, \"genres\": [{\"id\": 28, \"name\": \"Action\"}, {\"id\": 878, \"name\": \"Science Fiction\"}, {\"id\": 12, \"name\": \"Adventure\"}], \"homepage\": \"https://www.warnerbros.com/movies/inception\", \"id\": 27205, \"imdb_id\": \"tt1375666\", \"origin_country\": [\"US\", \"GB\"], \"original_language\": \"en\", \"original_title\": \"Inception\", \"overview\": \"Cobb, a skilled thief who commits corporate espionage by infiltrating the subconscious of his targets is offered a chance to regain his old life as payment for a task considered to be impossible: \\\\\"inception\\\\\", the implantation of another person\\'s idea into a target\\'s subconscious.\", \"popularity\": 33.0541, \"poster_path\": \"/oYuLEt3zVCKq57qu2F8dT7NIa6f.jpg\", \"production_companies\": [{\"id\": 923, \"logo_path\": \"/5UQsZrfbfG2dYJbx8DxfoTr2Bvu.png\", \"name\": \"Legendary Pictures\", \"origin_country\": \"US\"}, {\"id\": 9996, \"logo_path\": \"/3tvBqYsBhxWeHlu62SIJ1el93O7.png\", \"name\": \"Syncopy\", \"origin_country\": \"GB\"}, {\"id\": 174, \"logo_path\": \"/zhD3hhtKB5qyv7ZeL4uLpNxgMVU.png\", \"name\": \"Warner Bros. Pictures\", \"origin_country\": \"US\"}], \"production_countries\": [{\"iso_3166_1\": \"GB\", \"name\": \"United Kingdom\"}, {\"iso_3166_1\": \"US\", \"name\": \"United States of America\"}], \"release_date\": \"2010-07-15\", \"revenue\": 839030630, \"runtime\": 148, \"spoken_languages\": [{\"english_name\": \"English\", \"iso_639_1\": \"en\", \"name\": \"English\"}, {\"english_name\": \"French\", \"iso_639_1\": \"fr\", \"name\": \"Français\"}, {\"english_name\": \"Japanese\", \"iso_639_1\": \"ja\", \"name\": \"日本語\"}, {\"english_name\": \"Swahili\", \"iso_639_1\": \"sw\", \"name\": \"Kiswahili\"}], \"status\": \"Released\", \"tagline\": \"Your mind is the scene of the crime.\", \"title\": \"Inception\", \"video\": false, \"vote_average\": 8.369, \"vote_count\": 37561}', name='movie_detail', id='53ca3f07-a8a9-42fb-b4fc-6905f8340e10', tool_call_id='call_M8RzwSDXJ8MbgIgBicVUyZct')"
      ]
     },
     "execution_count": 6,
     "metadata": {},
     "output_type": "execute_result"
    }
   ],
   "source": [
    "response['messages'][-2]"
   ]
  },
  {
   "cell_type": "code",
   "execution_count": 7,
   "id": "3b3e91fb",
   "metadata": {},
   "outputs": [
    {
     "data": {
      "text/plain": [
       "'\"Inception\" is a 2010 science fiction action film directed by Christopher Nolan. The movie follows Cobb, a skilled thief who specializes in corporate espionage by infiltrating the subconscious of his targets. He is offered a chance to regain his old life as payment for a task considered to be impossible: \"inception,\" which involves implanting another person\\'s idea into a target\\'s subconscious.\\n\\n### Key Details:\\n- **Genres**: Action, Science Fiction, Adventure\\n- **Release Date**: July 15, 2010\\n- **Runtime**: 148 minutes\\n- **Budget**: $160,000,000\\n- **Revenue**: $839,030,630\\n- **Languages**: English, French, Japanese, Swahili\\n- **Production Companies**: Legendary Pictures, Syncopy, Warner Bros. Pictures\\n- **Countries**: United States, United Kingdom\\n- **Tagline**: \"Your mind is the scene of the crime.\"\\n- **IMDB ID**: [tt1375666](https://www.imdb.com/title/tt1375666/)\\n- **Homepage**: [Inception Official Site](https://www.warnerbros.com/movies/inception)\\n\\n### Ratings:\\n- **Vote Average**: 8.37/10\\n- **Vote Count**: 37,561\\n\\n![Inception Poster](https://image.tmdb.org/t/p/w500/oYuLEt3zVCKq57qu2F8dT7NIa6f.jpg)\\n\\nThe film is known for its complex narrative structure and visual effects, and it has been praised for its originality and thought-provoking themes.'"
      ]
     },
     "execution_count": 7,
     "metadata": {},
     "output_type": "execute_result"
    }
   ],
   "source": [
    "response['messages'][-1].content"
   ]
  },
  {
   "cell_type": "code",
   "execution_count": null,
   "id": "2eecc6d4",
   "metadata": {},
   "outputs": [],
   "source": []
  }
 ],
 "metadata": {
  "kernelspec": {
   "display_name": "venv",
   "language": "python",
   "name": "python3"
  },
  "language_info": {
   "codemirror_mode": {
    "name": "ipython",
    "version": 3
   },
   "file_extension": ".py",
   "mimetype": "text/x-python",
   "name": "python",
   "nbconvert_exporter": "python",
   "pygments_lexer": "ipython3",
   "version": "3.12.6"
  }
 },
 "nbformat": 4,
 "nbformat_minor": 5
}
