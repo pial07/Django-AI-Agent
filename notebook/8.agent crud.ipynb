{
 "cells": [
  {
   "cell_type": "code",
   "execution_count": 1,
   "id": "7871c340",
   "metadata": {},
   "outputs": [],
   "source": [
    "import setup\n",
    "setup.init()"
   ]
  },
  {
   "cell_type": "code",
   "execution_count": 2,
   "id": "2275286d",
   "metadata": {},
   "outputs": [],
   "source": [
    "from langgraph.checkpoint.memory import InMemorySaver\n",
    "from ai.agents import get_document_agent"
   ]
  },
  {
   "cell_type": "code",
   "execution_count": 3,
   "id": "5b8cc394",
   "metadata": {},
   "outputs": [],
   "source": [
    "import uuid\n",
    "config = {\"configurable\": {\"user_id\": \"3\", \"thread_id\": uuid.uuid4()}}\n",
    "checkpointer = InMemorySaver()\n",
    "agent=get_document_agent(model=\"gpt-4o\",checkpointer=checkpointer)"
   ]
  },
  {
   "cell_type": "code",
   "execution_count": null,
   "id": "ca78d2f6",
   "metadata": {},
   "outputs": [],
   "source": [
    "response=agent.invoke({\"messages\":\n",
    "              [\n",
    "                  {\"role\":\"user\",\n",
    "                   \"content\":\"remove the summary of movie Interstellar by christopher Nolan\",\n",
    "                   }\n",
    "            ]\n",
    "                },\n",
    "            config\n",
    "              )\n",
    "response['messages'][-1].content"
   ]
  },
  {
   "cell_type": "code",
   "execution_count": 4,
   "id": "e186431d",
   "metadata": {},
   "outputs": [
    {
     "name": "stdout",
     "output_type": "stream",
     "text": [
      "{'tags': [], 'metadata': {'user_id': '3', 'langgraph_step': 2, 'langgraph_node': 'tools', 'langgraph_triggers': ('__pregel_push',), 'langgraph_path': ('__pregel_push', 0, False), 'langgraph_checkpoint_ns': 'tools:11f86d5e-ac77-8328-718e-1b2ada39414b', 'checkpoint_ns': 'tools:11f86d5e-ac77-8328-718e-1b2ada39414b'}, 'callbacks': <langchain_core.callbacks.manager.CallbackManager object at 0x0000023A86533EC0>, 'recursion_limit': 25, 'configurable': {'user_id': '3', 'thread_id': UUID('40bcfba1-b246-4895-a923-96406ea23772'), '__pregel_task_id': '11f86d5e-ac77-8328-718e-1b2ada39414b', '__pregel_send': <built-in method extend of collections.deque object at 0x0000023A86AB67A0>, '__pregel_read': functools.partial(<function local_read at 0x0000023A85C72B60>, {'messages': <langgraph.channels.binop.BinaryOperatorAggregate object at 0x0000023A86B215C0>, '__start__': <langgraph.channels.ephemeral_value.EphemeralValue object at 0x0000023A86B21B40>, 'branch:to:agent': <langgraph.channels.ephemeral_value.EphemeralValue object at 0x0000023A86B21C40>, 'branch:to:tools': <langgraph.channels.ephemeral_value.EphemeralValue object at 0x0000023A86B21BC0>}, {'is_last_step': <langgraph.managed.is_last_step.IsLastStepManager object at 0x0000023A86AE17C0>, 'remaining_steps': <langgraph.managed.is_last_step.RemainingStepsManager object at 0x0000023A86AE1820>}, PregelTaskWrites(path=('__pregel_push', 0, False), name='tools', writes=deque([]), triggers=('__pregel_push',))), '__pregel_store': None, '__pregel_checkpointer': <langgraph.checkpoint.memory.InMemorySaver object at 0x0000023A8623D610>, 'checkpoint_map': {'': '1f04c26a-31d0-6ae6-8001-b025453819e7'}, 'checkpoint_id': None, 'checkpoint_ns': 'tools:11f86d5e-ac77-8328-718e-1b2ada39414b', '__pregel_scratchpad': PregelScratchpad(call_counter=<langgraph.pregel.algo.LazyAtomicCounter object at 0x0000023A86AE1990>, interrupt_counter=<langgraph.pregel.algo.LazyAtomicCounter object at 0x0000023A86AE1A20>, get_null_resume=<function _scratchpad.<locals>.get_null_resume at 0x0000023A8659CA40>, resume=[], subgraph_counter=<langgraph.pregel.algo.LazyAtomicCounter object at 0x0000023A86AE1D50>), '__pregel_previous': None, '__pregel_call': functools.partial(<function _call at 0x0000023A85CC0360>, <weakref at 0x0000023A81E0A570; to 'PregelExecutableTask' at 0x0000023A85FA0050>, retry=None, futures=<weakref at 0x0000023A86B285E0; to 'FuturesDict' at 0x0000023A86B28FF0>, schedule_task=<bound method SyncPregelLoop.accept_push of <langgraph.pregel.loop.SyncPregelLoop object at 0x0000023A86AE0EC0>>, submit=<weakref at 0x0000023A86B1E7D0; to 'BackgroundExecutor' at 0x0000023A86AE1670>)}}\n"
     ]
    },
    {
     "data": {
      "text/plain": [
       "'The document title has been successfully updated to \"Interstellar by Christopher Nolan.\" If you need any more changes or have other requests, feel free to let me know!'"
      ]
     },
     "execution_count": 4,
     "metadata": {},
     "output_type": "execute_result"
    }
   ],
   "source": [
    "response=agent.invoke({\"messages\":\n",
    "              [\n",
    "                  {\"role\":\"user\",\n",
    "                   \"content\":\"update the title of movie of interstellr to Interstellar by christopher Nolan\",\n",
    "                   }\n",
    "            ]\n",
    "                },\n",
    "            config\n",
    "              )\n",
    "response['messages'][-1].content"
   ]
  },
  {
   "cell_type": "code",
   "execution_count": 11,
   "id": "9c1c9b58",
   "metadata": {},
   "outputs": [
    {
     "data": {
      "text/plain": [
       "'\"Haider\" is a 2014 Indian crime drama film directed by Vishal Bhardwaj. It is an adaptation of William Shakespeare\\'s play \"Hamlet,\" set against the backdrop of the insurgency-hit Kashmir conflicts of 1995 and the controversial Indian military\\'s presence in Kashmir.\\n\\nThe film follows Haider Meer, played by Shahid Kapoor, a young student and poet who returns to Kashmir at the height of the conflict to seek answers about his father\\'s disappearance. His father, Dr. Hilal Meer, was taken away by the military for harboring militants. Upon returning, Haider discovers that his mother, Ghazala, played by Tabu, has developed a close relationship with his uncle, Khurram, played by Kay Kay Menon.\\n\\nAs Haider delves deeper into the mystery of his father\\'s disappearance, he uncovers political intrigue and family betrayal. The film explores themes of revenge, loyalty, and the impact of political strife on personal lives. Haider\\'s quest for truth and justice leads him down a path of vengeance, mirroring the tragic trajectory of Shakespeare\\'s Hamlet.\\n\\n\"Haider\" is acclaimed for its powerful performances, particularly by Shahid Kapoor and Tabu, its evocative portrayal of Kashmir, and its bold adaptation of a classic play to address contemporary issues. The film\\'s music, also composed by Vishal Bhardwaj, and its poignant storytelling have been widely praised.'"
      ]
     },
     "execution_count": 11,
     "metadata": {},
     "output_type": "execute_result"
    }
   ],
   "source": [
    "response=agent.invoke({\"messages\":\n",
    "              [\n",
    "                  {\"role\":\"user\",\n",
    "                   \"content\":\"give me the summary of the movie Haider\"\n",
    "                   }\n",
    "            ]\n",
    "                },\n",
    "            config\n",
    "              )\n",
    "response['messages'][-1].content"
   ]
  },
  {
   "cell_type": "code",
   "execution_count": 12,
   "id": "148c9843",
   "metadata": {},
   "outputs": [
    {
     "data": {
      "text/plain": [
       "'The summary of the movie \"Haider\" has been successfully saved to your documents with the title \"Haider Movie Summary.\" If there\\'s anything else you need, feel free to ask!'"
      ]
     },
     "execution_count": 12,
     "metadata": {},
     "output_type": "execute_result"
    }
   ],
   "source": [
    "response=agent.invoke({\"messages\":\n",
    "              [\n",
    "                  {\"role\":\"user\",\n",
    "                   \"content\":\"Great. now save it to my documents.\"\n",
    "                   }\n",
    "            ]\n",
    "                },\n",
    "            config\n",
    "              )\n",
    "response['messages'][-1].content"
   ]
  },
  {
   "cell_type": "code",
   "execution_count": 13,
   "id": "602dbc00",
   "metadata": {},
   "outputs": [
    {
     "data": {
      "text/plain": [
       "'Your two most recent documents are:\\n\\n1. **Haider Movie Summary**\\n2. **Interstellar Movie Summary**\\n\\nIf you need more information or any other assistance, feel free to ask!'"
      ]
     },
     "execution_count": 13,
     "metadata": {},
     "output_type": "execute_result"
    }
   ],
   "source": [
    "response=agent.invoke({\"messages\":\n",
    "              [\n",
    "                  {\"role\":\"user\",\n",
    "                   \"content\":\"What are my recent two documents?\"\n",
    "                   }\n",
    "            ]\n",
    "                },\n",
    "            config\n",
    "              )\n",
    "response['messages'][-1].content"
   ]
  },
  {
   "cell_type": "code",
   "execution_count": null,
   "id": "9142e577",
   "metadata": {},
   "outputs": [],
   "source": []
  },
  {
   "cell_type": "code",
   "execution_count": null,
   "id": "37b5c885",
   "metadata": {},
   "outputs": [],
   "source": []
  },
  {
   "cell_type": "code",
   "execution_count": null,
   "id": "ce8908fb",
   "metadata": {},
   "outputs": [],
   "source": []
  },
  {
   "cell_type": "code",
   "execution_count": null,
   "id": "598a45a2",
   "metadata": {},
   "outputs": [],
   "source": []
  }
 ],
 "metadata": {
  "kernelspec": {
   "display_name": "venv",
   "language": "python",
   "name": "python3"
  },
  "language_info": {
   "codemirror_mode": {
    "name": "ipython",
    "version": 3
   },
   "file_extension": ".py",
   "mimetype": "text/x-python",
   "name": "python",
   "nbconvert_exporter": "python",
   "pygments_lexer": "ipython3",
   "version": "3.12.6"
  }
 },
 "nbformat": 4,
 "nbformat_minor": 5
}
