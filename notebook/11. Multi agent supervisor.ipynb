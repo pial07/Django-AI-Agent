{
 "cells": [
  {
   "cell_type": "code",
   "execution_count": 1,
   "id": "7871c340",
   "metadata": {},
   "outputs": [],
   "source": [
    "import setup\n",
    "setup.init()"
   ]
  },
  {
   "cell_type": "code",
   "execution_count": 2,
   "id": "2275286d",
   "metadata": {},
   "outputs": [],
   "source": [
    "from ai.supervisor import get_supervisor\n"
   ]
  },
  {
   "cell_type": "code",
   "execution_count": 3,
   "id": "5b8cc394",
   "metadata": {},
   "outputs": [],
   "source": [
    "from langgraph.checkpoint.memory import InMemorySaver\n",
    "\n",
    "checkpointer = InMemorySaver()"
   ]
  },
  {
   "cell_type": "code",
   "execution_count": 4,
   "id": "84153c4e",
   "metadata": {},
   "outputs": [],
   "source": [
    "supervisor=get_supervisor(model=\"gpt-4o\",checkpointer=checkpointer)"
   ]
  },
  {
   "cell_type": "code",
   "execution_count": 5,
   "id": "9c1c9b58",
   "metadata": {},
   "outputs": [],
   "source": [
    "import uuid\n",
    "config = {\"configurable\": {\"user_id\": \"2\", \"thread_id\": uuid.uuid4()}}\n",
    "\n",
    "response=supervisor.invoke({\"messages\":\n",
    "              [\n",
    "                  {\"role\":\"user\",\n",
    "                   \"content\":\"what are my most recent documents?\"\n",
    "                   }\n",
    "            ]\n",
    "                },\n",
    "            config\n",
    "              )"
   ]
  },
  {
   "cell_type": "code",
   "execution_count": 6,
   "id": "3b3e91fb",
   "metadata": {},
   "outputs": [
    {
     "data": {
      "text/plain": [
       "'Your most recent documents include summaries of movies like \"Oppenheimer,\" \"Inception,\" \"Original Sin,\" and \"Haider.\" If you need more details or assistance with these documents, feel free to ask!'"
      ]
     },
     "execution_count": 6,
     "metadata": {},
     "output_type": "execute_result"
    }
   ],
   "source": [
    "response['messages'][-1].content"
   ]
  },
  {
   "cell_type": "code",
   "execution_count": 7,
   "id": "598a45a2",
   "metadata": {},
   "outputs": [
    {
     "data": {
      "text/plain": [
       "'The document titled \"Interstellar Movie Summary\" has been successfully added to your collection. If you need further assistance or have any other requests, just let me know!'"
      ]
     },
     "execution_count": 7,
     "metadata": {},
     "output_type": "execute_result"
    }
   ],
   "source": [
    "response=supervisor.invoke({\"messages\":\n",
    "              [\n",
    "                  {\"role\":\"user\",\n",
    "                   \"content\":\"add a new document of Intersteller movie. If you cant tell me the reason of it. and how can i solve this problem so that you can add  \"\n",
    "                   \n",
    "                   \n",
    "                   }\n",
    "            ]\n",
    "                },\n",
    "            config\n",
    "              )\n",
    "\n",
    "response['messages'][-1].content"
   ]
  },
  {
   "cell_type": "code",
   "execution_count": 8,
   "id": "7947b8c0",
   "metadata": {},
   "outputs": [
    {
     "data": {
      "text/plain": [
       "'The titles of your documents have been updated to remove \"Movie Summary,\" except for the \"Haider\" document, which encountered an issue. If you need help resolving this or have any other requests, feel free to ask!'"
      ]
     },
     "execution_count": 8,
     "metadata": {},
     "output_type": "execute_result"
    }
   ],
   "source": [
    "response=supervisor.invoke({\"messages\":\n",
    "              [\n",
    "                  {\"role\":\"user\",\n",
    "                   \"content\":\"remove the words Movie Summary from all the documents title \"\n",
    "                   \n",
    "                   \n",
    "                   }\n",
    "            ]\n",
    "                },\n",
    "            config\n",
    "              )\n",
    "\n",
    "response['messages'][-1].content"
   ]
  },
  {
   "cell_type": "code",
   "execution_count": null,
   "id": "c8b59915",
   "metadata": {},
   "outputs": [],
   "source": []
  }
 ],
 "metadata": {
  "kernelspec": {
   "display_name": "venv",
   "language": "python",
   "name": "python3"
  },
  "language_info": {
   "codemirror_mode": {
    "name": "ipython",
    "version": 3
   },
   "file_extension": ".py",
   "mimetype": "text/x-python",
   "name": "python",
   "nbconvert_exporter": "python",
   "pygments_lexer": "ipython3",
   "version": "3.12.6"
  }
 },
 "nbformat": 4,
 "nbformat_minor": 5
}
