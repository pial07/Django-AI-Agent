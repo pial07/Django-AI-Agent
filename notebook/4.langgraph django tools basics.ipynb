{
 "cells": [
  {
   "cell_type": "code",
   "execution_count": 1,
   "id": "7871c340",
   "metadata": {},
   "outputs": [],
   "source": [
    "import setup\n",
    "setup.init()"
   ]
  },
  {
   "cell_type": "code",
   "execution_count": 7,
   "id": "2275286d",
   "metadata": {},
   "outputs": [],
   "source": [
    "from ai.tools import get_document,list_documents\n"
   ]
  },
  {
   "cell_type": "code",
   "execution_count": 8,
   "id": "e17b1877",
   "metadata": {},
   "outputs": [],
   "source": [
    "config = {\n",
    "    \"user_id\":1,}"
   ]
  },
  {
   "cell_type": "code",
   "execution_count": 9,
   "id": "807f2514",
   "metadata": {},
   "outputs": [
    {
     "name": "stdout",
     "output_type": "stream",
     "text": [
      "{'tags': [], 'metadata': {'user_id': 1}, 'callbacks': None, 'recursion_limit': 25, 'configurable': {'user_id': 1}}\n"
     ]
    },
    {
     "data": {
      "text/plain": [
       "[{'id': 1, 'title': 'Title'},\n",
       " {'id': 2, 'title': 'Hello Pial'},\n",
       " {'id': 3, 'title': 'Title'}]"
      ]
     },
     "execution_count": 9,
     "metadata": {},
     "output_type": "execute_result"
    }
   ],
   "source": [
    "list_documents.invoke(None,config)"
   ]
  },
  {
   "cell_type": "code",
   "execution_count": 10,
   "id": "4dda1a05",
   "metadata": {},
   "outputs": [
    {
     "data": {
      "text/plain": [
       "{'id': 2, 'title': 'Hello Pial'}"
      ]
     },
     "execution_count": 10,
     "metadata": {},
     "output_type": "execute_result"
    }
   ],
   "source": [
    "get_document.invoke({\"document_id\": \"2\"},config)"
   ]
  },
  {
   "cell_type": "code",
   "execution_count": null,
   "id": "84153c4e",
   "metadata": {},
   "outputs": [],
   "source": []
  }
 ],
 "metadata": {
  "kernelspec": {
   "display_name": "venv",
   "language": "python",
   "name": "python3"
  },
  "language_info": {
   "codemirror_mode": {
    "name": "ipython",
    "version": 3
   },
   "file_extension": ".py",
   "mimetype": "text/x-python",
   "name": "python",
   "nbconvert_exporter": "python",
   "pygments_lexer": "ipython3",
   "version": "3.12.6"
  }
 },
 "nbformat": 4,
 "nbformat_minor": 5
}
