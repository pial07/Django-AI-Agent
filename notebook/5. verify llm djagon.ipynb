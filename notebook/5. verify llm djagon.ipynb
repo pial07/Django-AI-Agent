{
 "cells": [
  {
   "cell_type": "code",
   "execution_count": 1,
   "id": "7871c340",
   "metadata": {},
   "outputs": [],
   "source": [
    "import setup\n",
    "setup.init()"
   ]
  },
  {
   "cell_type": "code",
   "execution_count": 2,
   "id": "2275286d",
   "metadata": {},
   "outputs": [],
   "source": [
    "from ai.llms import get_openai_model\n"
   ]
  },
  {
   "cell_type": "code",
   "execution_count": 3,
   "id": "84153c4e",
   "metadata": {},
   "outputs": [],
   "source": [
    "model=get_openai_model()"
   ]
  },
  {
   "cell_type": "code",
   "execution_count": 4,
   "id": "9c1c9b58",
   "metadata": {},
   "outputs": [
    {
     "data": {
      "text/plain": [
       "AIMessage(content='As of my last knowledge update in October 2023, the President of the United States is Joe Biden. He has been in office since January 20, 2021. Please verify with up-to-date sources, as political positions can change.', additional_kwargs={'refusal': None}, response_metadata={'token_usage': {'completion_tokens': 50, 'prompt_tokens': 16, 'total_tokens': 66, 'completion_tokens_details': {'accepted_prediction_tokens': 0, 'audio_tokens': 0, 'reasoning_tokens': 0, 'rejected_prediction_tokens': 0}, 'prompt_tokens_details': {'audio_tokens': 0, 'cached_tokens': 0}}, 'model_name': 'gpt-4o-mini-2024-07-18', 'system_fingerprint': 'fp_62a23a81ef', 'id': 'chatcmpl-BjeZVp1IVThzkV0vvq0WGWG97A308', 'service_tier': 'default', 'finish_reason': 'stop', 'logprobs': None}, id='run--5d6c9863-bbb3-499e-ad37-57989787a387-0', usage_metadata={'input_tokens': 16, 'output_tokens': 50, 'total_tokens': 66, 'input_token_details': {'audio': 0, 'cache_read': 0}, 'output_token_details': {'audio': 0, 'reasoning': 0}})"
      ]
     },
     "execution_count": 4,
     "metadata": {},
     "output_type": "execute_result"
    }
   ],
   "source": [
    "model.invoke(\"who is the president of the United States?\")"
   ]
  },
  {
   "cell_type": "code",
   "execution_count": null,
   "id": "9327fe2c",
   "metadata": {},
   "outputs": [],
   "source": []
  }
 ],
 "metadata": {
  "kernelspec": {
   "display_name": "venv",
   "language": "python",
   "name": "python3"
  },
  "language_info": {
   "codemirror_mode": {
    "name": "ipython",
    "version": 3
   },
   "file_extension": ".py",
   "mimetype": "text/x-python",
   "name": "python",
   "nbconvert_exporter": "python",
   "pygments_lexer": "ipython3",
   "version": "3.12.6"
  }
 },
 "nbformat": 4,
 "nbformat_minor": 5
}
