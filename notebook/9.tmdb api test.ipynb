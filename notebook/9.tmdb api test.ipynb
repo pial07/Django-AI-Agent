{
 "cells": [
  {
   "cell_type": "code",
   "execution_count": 1,
   "id": "7871c340",
   "metadata": {},
   "outputs": [],
   "source": [
    "import setup\n",
    "setup.init()"
   ]
  },
  {
   "cell_type": "code",
   "execution_count": 2,
   "id": "37b5c885",
   "metadata": {},
   "outputs": [],
   "source": [
    "from tmdb import client as tmdb_client"
   ]
  },
  {
   "cell_type": "code",
   "execution_count": 6,
   "id": "ce8908fb",
   "metadata": {},
   "outputs": [],
   "source": [
    "response=tmdb_client.search_movie(\"inception\")\n",
    "results=response.get(\"results\", [])\n",
    "movie_id=results[0].get(\"id\")"
   ]
  },
  {
   "cell_type": "code",
   "execution_count": 7,
   "id": "598a45a2",
   "metadata": {},
   "outputs": [
    {
     "data": {
      "text/plain": [
       "{'adult': False,\n",
       " 'backdrop_path': '/8ZTVqvKDQ8emSGUEMjsS4yHAwrp.jpg',\n",
       " 'belongs_to_collection': None,\n",
       " 'budget': 160000000,\n",
       " 'genres': [{'id': 28, 'name': 'Action'},\n",
       "  {'id': 878, 'name': 'Science Fiction'},\n",
       "  {'id': 12, 'name': 'Adventure'}],\n",
       " 'homepage': 'https://www.warnerbros.com/movies/inception',\n",
       " 'id': 27205,\n",
       " 'imdb_id': 'tt1375666',\n",
       " 'origin_country': ['US', 'GB'],\n",
       " 'original_language': 'en',\n",
       " 'original_title': 'Inception',\n",
       " 'overview': 'Cobb, a skilled thief who commits corporate espionage by infiltrating the subconscious of his targets is offered a chance to regain his old life as payment for a task considered to be impossible: \"inception\", the implantation of another person\\'s idea into a target\\'s subconscious.',\n",
       " 'popularity': 29.8676,\n",
       " 'poster_path': '/oYuLEt3zVCKq57qu2F8dT7NIa6f.jpg',\n",
       " 'production_companies': [{'id': 923,\n",
       "   'logo_path': '/5UQsZrfbfG2dYJbx8DxfoTr2Bvu.png',\n",
       "   'name': 'Legendary Pictures',\n",
       "   'origin_country': 'US'},\n",
       "  {'id': 9996,\n",
       "   'logo_path': '/3tvBqYsBhxWeHlu62SIJ1el93O7.png',\n",
       "   'name': 'Syncopy',\n",
       "   'origin_country': 'GB'},\n",
       "  {'id': 174,\n",
       "   'logo_path': '/zhD3hhtKB5qyv7ZeL4uLpNxgMVU.png',\n",
       "   'name': 'Warner Bros. Pictures',\n",
       "   'origin_country': 'US'}],\n",
       " 'production_countries': [{'iso_3166_1': 'GB', 'name': 'United Kingdom'},\n",
       "  {'iso_3166_1': 'US', 'name': 'United States of America'}],\n",
       " 'release_date': '2010-07-15',\n",
       " 'revenue': 839030630,\n",
       " 'runtime': 148,\n",
       " 'spoken_languages': [{'english_name': 'English',\n",
       "   'iso_639_1': 'en',\n",
       "   'name': 'English'},\n",
       "  {'english_name': 'French', 'iso_639_1': 'fr', 'name': 'Français'},\n",
       "  {'english_name': 'Japanese', 'iso_639_1': 'ja', 'name': '日本語'},\n",
       "  {'english_name': 'Swahili', 'iso_639_1': 'sw', 'name': 'Kiswahili'}],\n",
       " 'status': 'Released',\n",
       " 'tagline': 'Your mind is the scene of the crime.',\n",
       " 'title': 'Inception',\n",
       " 'video': False,\n",
       " 'vote_average': 8.369,\n",
       " 'vote_count': 37561}"
      ]
     },
     "execution_count": 7,
     "metadata": {},
     "output_type": "execute_result"
    }
   ],
   "source": [
    "movie_details=tmdb_client.movie_detail(movie_id)\n",
    "movie_details"
   ]
  },
  {
   "cell_type": "code",
   "execution_count": null,
   "id": "dfb627ad",
   "metadata": {},
   "outputs": [],
   "source": []
  }
 ],
 "metadata": {
  "kernelspec": {
   "display_name": "venv",
   "language": "python",
   "name": "python3"
  },
  "language_info": {
   "codemirror_mode": {
    "name": "ipython",
    "version": 3
   },
   "file_extension": ".py",
   "mimetype": "text/x-python",
   "name": "python",
   "nbconvert_exporter": "python",
   "pygments_lexer": "ipython3",
   "version": "3.12.6"
  }
 },
 "nbformat": 4,
 "nbformat_minor": 5
}
