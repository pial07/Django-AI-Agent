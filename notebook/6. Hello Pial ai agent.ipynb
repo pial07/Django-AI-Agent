{
 "cells": [
  {
   "cell_type": "code",
   "execution_count": 1,
   "id": "7871c340",
   "metadata": {},
   "outputs": [],
   "source": [
    "import setup\n",
    "setup.init()"
   ]
  },
  {
   "cell_type": "code",
   "execution_count": 2,
   "id": "2275286d",
   "metadata": {},
   "outputs": [],
   "source": [
    "from ai.agents import get_document_agent\n"
   ]
  },
  {
   "cell_type": "code",
   "execution_count": 3,
   "id": "84153c4e",
   "metadata": {},
   "outputs": [],
   "source": [
    "agent=get_document_agent()"
   ]
  },
  {
   "cell_type": "code",
   "execution_count": 4,
   "id": "9c1c9b58",
   "metadata": {},
   "outputs": [
    {
     "name": "stdout",
     "output_type": "stream",
     "text": [
      "{'tags': [], 'metadata': {'user_id': '2', 'langgraph_step': 2, 'langgraph_node': 'tools', 'langgraph_triggers': ('__pregel_push',), 'langgraph_path': ('__pregel_push', 0, False), 'langgraph_checkpoint_ns': 'tools:f44ca8eb-261b-6a62-4d35-38703625765a', 'checkpoint_ns': 'tools:f44ca8eb-261b-6a62-4d35-38703625765a'}, 'callbacks': <langchain_core.callbacks.manager.CallbackManager object at 0x000001BDA342D850>, 'recursion_limit': 25, 'configurable': {'user_id': '2', 'thread_id': UUID('edd95525-e33a-4921-adbf-718abfd85fb9'), '__pregel_task_id': 'f44ca8eb-261b-6a62-4d35-38703625765a', '__pregel_send': <built-in method extend of collections.deque object at 0x000001BDA33AD120>, '__pregel_read': functools.partial(<function local_read at 0x000001BDA2581B20>, {'messages': <langgraph.channels.binop.BinaryOperatorAggregate object at 0x000001BDA33C84C0>, '__start__': <langgraph.channels.ephemeral_value.EphemeralValue object at 0x000001BDA33C8800>, 'branch:to:agent': <langgraph.channels.ephemeral_value.EphemeralValue object at 0x000001BDA33C88C0>, 'branch:to:tools': <langgraph.channels.ephemeral_value.EphemeralValue object at 0x000001BDA33C8A40>}, {'is_last_step': <langgraph.managed.is_last_step.IsLastStepManager object at 0x000001BDA3393E30>, 'remaining_steps': <langgraph.managed.is_last_step.RemainingStepsManager object at 0x000001BDA3393E90>}, PregelTaskWrites(path=('__pregel_push', 0, False), name='tools', writes=deque([]), triggers=('__pregel_push',))), '__pregel_store': None, '__pregel_checkpointer': None, 'checkpoint_map': {'': '1f04c049-297f-6994-8001-5f7dd1ac2608'}, 'checkpoint_id': None, 'checkpoint_ns': 'tools:f44ca8eb-261b-6a62-4d35-38703625765a', '__pregel_scratchpad': PregelScratchpad(call_counter=<langgraph.pregel.algo.LazyAtomicCounter object at 0x000001BDA3408130>, interrupt_counter=<langgraph.pregel.algo.LazyAtomicCounter object at 0x000001BDA3408160>, get_null_resume=<function _scratchpad.<locals>.get_null_resume at 0x000001BDA2892F20>, resume=[], subgraph_counter=<langgraph.pregel.algo.LazyAtomicCounter object at 0x000001BDA3408070>), '__pregel_previous': None, '__pregel_call': functools.partial(<function _call at 0x000001BDA25B3240>, <weakref at 0x000001BDA33FDD50; to 'PregelExecutableTask' at 0x000001BDA2892E90>, retry=None, futures=<weakref at 0x000001BDA33FF060; to 'FuturesDict' at 0x000001BDA33FF110>, schedule_task=<bound method SyncPregelLoop.accept_push of <langgraph.pregel.loop.SyncPregelLoop object at 0x000001BDA2FBB0E0>>, submit=<weakref at 0x000001BDA33FA6D0; to 'BackgroundExecutor' at 0x000001BDA3393D70>)}}\n"
     ]
    }
   ],
   "source": [
    "import uuid\n",
    "config = {\"configurable\": {\"user_id\": \"2\", \"thread_id\": uuid.uuid4()}}\n",
    "\n",
    "response=agent.invoke({\"messages\":\n",
    "              [\n",
    "                  {\"role\":\"user\",\n",
    "                   \"content\":\"what are my recent documents?\"\n",
    "                   }\n",
    "            ]\n",
    "                },\n",
    "            config\n",
    "              )"
   ]
  },
  {
   "cell_type": "code",
   "execution_count": 8,
   "id": "9327fe2c",
   "metadata": {},
   "outputs": [
    {
     "name": "stdout",
     "output_type": "stream",
     "text": [
      "0 what are my recent documents? content='what are my recent documents?' additional_kwargs={} response_metadata={} id='3ef07c15-eefe-4c0b-a3ca-c19a908b4901'\n",
      "\n",
      "\n",
      "2 [{\"id\": 1, \"title\": \"Title\"}, {\"id\": 2, \"title\": \"Hello Pial\"}, {\"id\": 3, \"title\": \"Title\"}] content='[{\"id\": 1, \"title\": \"Title\"}, {\"id\": 2, \"title\": \"Hello Pial\"}, {\"id\": 3, \"title\": \"Title\"}]' name='list_documents' id='cad0dcc2-18e3-484f-857d-d5413c37f705' tool_call_id='call_wuLvaChDRa16iQHhW5uzCry5'\n",
      "\n",
      "\n",
      "3 Your recent documents are:\n",
      "\n",
      "1. **Title** (ID: 1)\n",
      "2. **Hello Pial** (ID: 2)\n",
      "3. **Title** (ID: 3) content='Your recent documents are:\\n\\n1. **Title** (ID: 1)\\n2. **Hello Pial** (ID: 2)\\n3. **Title** (ID: 3)' additional_kwargs={'refusal': None} response_metadata={'token_usage': {'completion_tokens': 41, 'prompt_tokens': 147, 'total_tokens': 188, 'completion_tokens_details': {'accepted_prediction_tokens': 0, 'audio_tokens': 0, 'reasoning_tokens': 0, 'rejected_prediction_tokens': 0}, 'prompt_tokens_details': {'audio_tokens': 0, 'cached_tokens': 0}}, 'model_name': 'gpt-4o-mini-2024-07-18', 'system_fingerprint': 'fp_34a54ae93c', 'id': 'chatcmpl-Bjfa5JMV5hHMkrFEieNXE8f2dpqSh', 'service_tier': 'default', 'finish_reason': 'stop', 'logprobs': None} id='run--87c4fac4-3f0b-4ccc-a3f2-ef76bb33851f-0' usage_metadata={'input_tokens': 147, 'output_tokens': 41, 'total_tokens': 188, 'input_token_details': {'audio': 0, 'cache_read': 0}, 'output_token_details': {'audio': 0, 'reasoning': 0}}\n",
      "\n",
      "\n"
     ]
    }
   ],
   "source": [
    "for i,msg in enumerate(response['messages']):\n",
    "    if msg.content:\n",
    "        print(i,msg.content,msg)\n",
    "        print(\"\\n\")"
   ]
  },
  {
   "cell_type": "code",
   "execution_count": 9,
   "id": "3b3e91fb",
   "metadata": {},
   "outputs": [
    {
     "data": {
      "text/plain": [
       "'Your recent documents are:\\n\\n1. **Title** (ID: 1)\\n2. **Hello Pial** (ID: 2)\\n3. **Title** (ID: 3)'"
      ]
     },
     "execution_count": 9,
     "metadata": {},
     "output_type": "execute_result"
    }
   ],
   "source": [
    "response['messages'][-1].content"
   ]
  },
  {
   "cell_type": "code",
   "execution_count": null,
   "id": "265fa285",
   "metadata": {},
   "outputs": [],
   "source": []
  }
 ],
 "metadata": {
  "kernelspec": {
   "display_name": "venv",
   "language": "python",
   "name": "python3"
  },
  "language_info": {
   "codemirror_mode": {
    "name": "ipython",
    "version": 3
   },
   "file_extension": ".py",
   "mimetype": "text/x-python",
   "name": "python",
   "nbconvert_exporter": "python",
   "pygments_lexer": "ipython3",
   "version": "3.12.6"
  }
 },
 "nbformat": 4,
 "nbformat_minor": 5
}
