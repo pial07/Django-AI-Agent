{
 "cells": [
  {
   "cell_type": "code",
   "execution_count": 1,
   "id": "7871c340",
   "metadata": {},
   "outputs": [],
   "source": [
    "import setup\n",
    "setup.init()"
   ]
  },
  {
   "cell_type": "code",
   "execution_count": 2,
   "id": "2275286d",
   "metadata": {},
   "outputs": [],
   "source": [
    "from ai.agents import get_document_agent\n"
   ]
  },
  {
   "cell_type": "code",
   "execution_count": 3,
   "id": "5b8cc394",
   "metadata": {},
   "outputs": [],
   "source": [
    "from langgraph.checkpoint.memory import InMemorySaver\n",
    "\n",
    "checkpointer = InMemorySaver()"
   ]
  },
  {
   "cell_type": "code",
   "execution_count": 4,
   "id": "84153c4e",
   "metadata": {},
   "outputs": [],
   "source": [
    "agent=get_document_agent(model=\"gpt-4o\",checkpointer=checkpointer)"
   ]
  },
  {
   "cell_type": "code",
   "execution_count": 5,
   "id": "9c1c9b58",
   "metadata": {},
   "outputs": [
    {
     "name": "stdout",
     "output_type": "stream",
     "text": [
      "{'tags': [], 'metadata': {'user_id': '2', 'langgraph_step': 2, 'langgraph_node': 'tools', 'langgraph_triggers': ('__pregel_push',), 'langgraph_path': ('__pregel_push', 0, False), 'langgraph_checkpoint_ns': 'tools:2de72997-0eff-7000-2d6f-83199f97720d', 'checkpoint_ns': 'tools:2de72997-0eff-7000-2d6f-83199f97720d'}, 'callbacks': <langchain_core.callbacks.manager.CallbackManager object at 0x0000020E8A0717C0>, 'recursion_limit': 25, 'configurable': {'user_id': '2', 'thread_id': UUID('c7e3045a-7d1e-4021-bb73-ea378d8c4e23'), '__pregel_task_id': '2de72997-0eff-7000-2d6f-83199f97720d', '__pregel_send': <built-in method extend of collections.deque object at 0x0000020E8D6BA980>, '__pregel_read': functools.partial(<function local_read at 0x0000020E8C881B20>, {'messages': <langgraph.channels.binop.BinaryOperatorAggregate object at 0x0000020E8D707D40>, '__start__': <langgraph.channels.ephemeral_value.EphemeralValue object at 0x0000020E8D6EE380>, 'branch:to:agent': <langgraph.channels.ephemeral_value.EphemeralValue object at 0x0000020E8D6EE300>, 'branch:to:tools': <langgraph.channels.ephemeral_value.EphemeralValue object at 0x0000020E8D6EE080>}, {'is_last_step': <langgraph.managed.is_last_step.IsLastStepManager object at 0x0000020E8D6F0F80>, 'remaining_steps': <langgraph.managed.is_last_step.RemainingStepsManager object at 0x0000020E8D6F0FE0>}, PregelTaskWrites(path=('__pregel_push', 0, False), name='tools', writes=deque([]), triggers=('__pregel_push',))), '__pregel_store': None, '__pregel_checkpointer': <langgraph.checkpoint.memory.InMemorySaver object at 0x0000020E8A071250>, 'checkpoint_map': {'': '1f04c0ff-ea70-6959-8001-90b29bdb72a8'}, 'checkpoint_id': None, 'checkpoint_ns': 'tools:2de72997-0eff-7000-2d6f-83199f97720d', '__pregel_scratchpad': PregelScratchpad(call_counter=<langgraph.pregel.algo.LazyAtomicCounter object at 0x0000020E8D6F1360>, interrupt_counter=<langgraph.pregel.algo.LazyAtomicCounter object at 0x0000020E8D6F1300>, get_null_resume=<function _scratchpad.<locals>.get_null_resume at 0x0000020E8D6DF240>, resume=[], subgraph_counter=<langgraph.pregel.algo.LazyAtomicCounter object at 0x0000020E8D6F1390>), '__pregel_previous': None, '__pregel_call': functools.partial(<function _call at 0x0000020E8C8B3240>, <weakref at 0x0000020E8D71BC40; to 'PregelExecutableTask' at 0x0000020E8CB92F30>, retry=None, futures=<weakref at 0x0000020E8D742AC0; to 'FuturesDict' at 0x0000020E8D729180>, schedule_task=<bound method SyncPregelLoop.accept_push of <langgraph.pregel.loop.SyncPregelLoop object at 0x0000020E8D6F0710>>, submit=<weakref at 0x0000020E8D71F050; to 'BackgroundExecutor' at 0x0000020E8A0715E0>)}}\n"
     ]
    }
   ],
   "source": [
    "import uuid\n",
    "config = {\"configurable\": {\"user_id\": \"2\", \"thread_id\": uuid.uuid4()}}\n",
    "\n",
    "response=agent.invoke({\"messages\":\n",
    "              [\n",
    "                  {\"role\":\"user\",\n",
    "                   \"content\":\"what are my recent documents?\"\n",
    "                   }\n",
    "            ]\n",
    "                },\n",
    "            config\n",
    "              )"
   ]
  },
  {
   "cell_type": "code",
   "execution_count": 6,
   "id": "9327fe2c",
   "metadata": {},
   "outputs": [
    {
     "name": "stdout",
     "output_type": "stream",
     "text": [
      "0 what are my recent documents? content='what are my recent documents?' additional_kwargs={} response_metadata={} id='56b1b907-2d4a-4239-a259-97dbf287e12c'\n",
      "\n",
      "\n",
      "2 [{\"id\": 1, \"title\": \"Title\"}, {\"id\": 2, \"title\": \"Hello Pial\"}, {\"id\": 3, \"title\": \"Title\"}] content='[{\"id\": 1, \"title\": \"Title\"}, {\"id\": 2, \"title\": \"Hello Pial\"}, {\"id\": 3, \"title\": \"Title\"}]' name='list_documents' id='7eb85919-728c-413f-88e4-a6b7fb01f0ca' tool_call_id='call_bVHNfcpE3S9qePl0GJ1Jl6K6'\n",
      "\n",
      "\n",
      "3 Here are your most recent documents:\n",
      "\n",
      "1. **Title**\n",
      "2. **Hello Pial**\n",
      "3. **Title**\n",
      "\n",
      "If you need more details about any of these documents, just let me know! content='Here are your most recent documents:\\n\\n1. **Title**\\n2. **Hello Pial**\\n3. **Title**\\n\\nIf you need more details about any of these documents, just let me know!' additional_kwargs={'refusal': None} response_metadata={'token_usage': {'completion_tokens': 41, 'prompt_tokens': 147, 'total_tokens': 188, 'completion_tokens_details': {'accepted_prediction_tokens': 0, 'audio_tokens': 0, 'reasoning_tokens': 0, 'rejected_prediction_tokens': 0}, 'prompt_tokens_details': {'audio_tokens': 0, 'cached_tokens': 0}}, 'model_name': 'gpt-4o-2024-08-06', 'system_fingerprint': 'fp_07871e2ad8', 'id': 'chatcmpl-BjgrE3LoPyzKULIsAvBfXu5GtwfBO', 'service_tier': 'default', 'finish_reason': 'stop', 'logprobs': None} id='run--8701daab-5264-42d1-92b8-b06b713ada62-0' usage_metadata={'input_tokens': 147, 'output_tokens': 41, 'total_tokens': 188, 'input_token_details': {'audio': 0, 'cache_read': 0}, 'output_token_details': {'audio': 0, 'reasoning': 0}}\n",
      "\n",
      "\n"
     ]
    }
   ],
   "source": [
    "for i,msg in enumerate(response['messages']):\n",
    "    if msg.content:\n",
    "        print(i,msg.content,msg)\n",
    "        print(\"\\n\")"
   ]
  },
  {
   "cell_type": "code",
   "execution_count": 7,
   "id": "3b3e91fb",
   "metadata": {},
   "outputs": [
    {
     "data": {
      "text/plain": [
       "'Here are your most recent documents:\\n\\n1. **Title**\\n2. **Hello Pial**\\n3. **Title**\\n\\nIf you need more details about any of these documents, just let me know!'"
      ]
     },
     "execution_count": 7,
     "metadata": {},
     "output_type": "execute_result"
    }
   ],
   "source": [
    "response['messages'][-1].content"
   ]
  },
  {
   "cell_type": "code",
   "execution_count": 9,
   "id": "265fa285",
   "metadata": {},
   "outputs": [
    {
     "name": "stdout",
     "output_type": "stream",
     "text": [
      "{'tags': [], 'metadata': {'user_id': '2', 'langgraph_step': 2, 'langgraph_node': 'tools', 'langgraph_triggers': ('__pregel_push',), 'langgraph_path': ('__pregel_push', 0, False), 'langgraph_checkpoint_ns': 'tools:22336d8f-a91a-97fe-70ca-592079ec75bd', 'checkpoint_ns': 'tools:22336d8f-a91a-97fe-70ca-592079ec75bd'}, 'callbacks': <langchain_core.callbacks.manager.CallbackManager object at 0x0000020E8D6F0D40>, 'recursion_limit': 25, 'configurable': {'user_id': '2', 'thread_id': UUID('733a1af1-427b-46d6-af4a-0a512bf5e0ce'), '__pregel_task_id': '22336d8f-a91a-97fe-70ca-592079ec75bd', '__pregel_send': <built-in method extend of collections.deque object at 0x0000020E8D774E50>, '__pregel_read': functools.partial(<function local_read at 0x0000020E8C881B20>, {'messages': <langgraph.channels.binop.BinaryOperatorAggregate object at 0x0000020E8D7AA380>, '__start__': <langgraph.channels.ephemeral_value.EphemeralValue object at 0x0000020E8D7A90C0>, 'branch:to:agent': <langgraph.channels.ephemeral_value.EphemeralValue object at 0x0000020E8D7A9C00>, 'branch:to:tools': <langgraph.channels.ephemeral_value.EphemeralValue object at 0x0000020E8D7A8BC0>}, {'is_last_step': <langgraph.managed.is_last_step.IsLastStepManager object at 0x0000020E8D77EED0>, 'remaining_steps': <langgraph.managed.is_last_step.RemainingStepsManager object at 0x0000020E8D77F9E0>}, PregelTaskWrites(path=('__pregel_push', 0, False), name='tools', writes=deque([]), triggers=('__pregel_push',))), '__pregel_store': None, '__pregel_checkpointer': <langgraph.checkpoint.memory.InMemorySaver object at 0x0000020E8A071250>, 'checkpoint_map': {'': '1f04c108-f9fe-683b-8001-b7977e7f43b5'}, 'checkpoint_id': None, 'checkpoint_ns': 'tools:22336d8f-a91a-97fe-70ca-592079ec75bd', '__pregel_scratchpad': PregelScratchpad(call_counter=<langgraph.pregel.algo.LazyAtomicCounter object at 0x0000020E8D749150>, interrupt_counter=<langgraph.pregel.algo.LazyAtomicCounter object at 0x0000020E8D74A770>, get_null_resume=<function _scratchpad.<locals>.get_null_resume at 0x0000020E8D73BBA0>, resume=[], subgraph_counter=<langgraph.pregel.algo.LazyAtomicCounter object at 0x0000020E8D7490F0>), '__pregel_previous': None, '__pregel_call': functools.partial(<function _call at 0x0000020E8C8B3240>, <weakref at 0x0000020E8D785FD0; to 'PregelExecutableTask' at 0x0000020E8D798FF0>, retry=None, futures=<weakref at 0x0000020E8D787D30; to 'FuturesDict' at 0x0000020E8D785450>, schedule_task=<bound method SyncPregelLoop.accept_push of <langgraph.pregel.loop.SyncPregelLoop object at 0x0000020E8D77EC00>>, submit=<weakref at 0x0000020E8D71E7D0; to 'BackgroundExecutor' at 0x0000020E8D183EF0>)}}\n"
     ]
    },
    {
     "data": {
      "text/plain": [
       "'Yes, there are duplicates in the document titles. The title \"Title\" appears more than once.'"
      ]
     },
     "execution_count": 9,
     "metadata": {},
     "output_type": "execute_result"
    }
   ],
   "source": [
    "import uuid\n",
    "config = {\"configurable\": {\"user_id\": \"2\", \"thread_id\": uuid.uuid4()}}\n",
    "\n",
    "response=agent.invoke({\"messages\":\n",
    "              [\n",
    "                  {\"role\":\"user\",\n",
    "                   \"content\":\"Are there duplicates in title?\"\n",
    "                   }\n",
    "            ]\n",
    "                },\n",
    "            config\n",
    "              )\n",
    "\n",
    "response['messages'][-1].content"
   ]
  },
  {
   "cell_type": "code",
   "execution_count": null,
   "id": "598a45a2",
   "metadata": {},
   "outputs": [],
   "source": []
  }
 ],
 "metadata": {
  "kernelspec": {
   "display_name": "venv",
   "language": "python",
   "name": "python3"
  },
  "language_info": {
   "codemirror_mode": {
    "name": "ipython",
    "version": 3
   },
   "file_extension": ".py",
   "mimetype": "text/x-python",
   "name": "python",
   "nbconvert_exporter": "python",
   "pygments_lexer": "ipython3",
   "version": "3.12.6"
  }
 },
 "nbformat": 4,
 "nbformat_minor": 5
}
